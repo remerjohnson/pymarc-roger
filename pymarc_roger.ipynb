{
 "cells": [
  {
   "cell_type": "markdown",
   "metadata": {},
   "source": [
    "# Using `pymarc` on Roger records\n",
    "\n",
    "We will use the python library `pymarc` on Roger records to investigate if we can use this as a quicker way to go from Roger->DAMS. For the MARC source data, I'm using the May 2018 batch MARC file from Roger, which has 100s of records within it. This would be probably much larger than the average digital collection, but can still serve as a good data source to test. \n",
    "\n",
    "Note: if this will be used as a script, the ideal scenario would be having a way to directly get MARC records from Roger."
   ]
  },
  {
   "cell_type": "markdown",
   "metadata": {},
   "source": [
    "## Step 1: Reading in MARC records and exploring the data\n",
    "\n",
    "Using the [GitHub tutorial on reading](https://github.com/edsu/pymarc#reading)"
   ]
  },
  {
   "cell_type": "code",
   "execution_count": 1,
   "metadata": {},
   "outputs": [],
   "source": [
    "from pymarc import MARCReader\n",
    "\n",
    "titles = []\n",
    "with open('data/D180501.mrk', 'rb') as fh:\n",
    "    reader = MARCReader(fh)\n",
    "    for record in reader:\n",
    "        titles.append(record['245']['a']) # This will only capture 245 subfield a"
   ]
  },
  {
   "cell_type": "code",
   "execution_count": 2,
   "metadata": {},
   "outputs": [
    {
     "name": "stdout",
     "output_type": "stream",
     "text": [
      "['El nuevo indio :', 'California design', 'Best of college photography annual', 'Contemporary Japanese prints', 'Transmission, speaking & listening', 'Con sabor a España /', 'Super quad', 'Fiesta bailable U.S.A', 'Insieme', 'Romance y cuerdas /']\n"
     ]
    }
   ],
   "source": [
    "print(titles[0:10])"
   ]
  },
  {
   "cell_type": "markdown",
   "metadata": {},
   "source": [
    "There seems to be a lot of `/` slashes where the subfield ends. Let's use some regex"
   ]
  },
  {
   "cell_type": "code",
   "execution_count": 3,
   "metadata": {},
   "outputs": [],
   "source": [
    "import re\n",
    "with open('data/D180501.mrk', 'rb') as fh:\n",
    "  reader = MARCReader(fh)\n",
    "  for record in reader:\n",
    "    \n",
    "    #Get title (245 |a)\n",
    "    if record['245'] is not None:\n",
    "      if record['245']['a'] is not None:\n",
    "        #title = record['245']['a']\n",
    "        title = record['245']['a'].rsplit('/', 1)[0]\n",
    "        title = title.rsplit(':', 1)[0]\n",
    "      else:\n",
    "        title = 'None'\n",
    "    else:\n",
    "        title = 'None'"
   ]
  },
  {
   "cell_type": "markdown",
   "metadata": {},
   "source": [
    "We're only getting subfield `a` so far. We'd want to get the subtitles as well. Luckily, `pymarc` has a method for this, simply called `title`. Let's use it with the regex above, plus let's strip out the trailing whitespace"
   ]
  },
  {
   "cell_type": "code",
   "execution_count": 4,
   "metadata": {},
   "outputs": [],
   "source": [
    "titles = []\n",
    "\n",
    "with open('data/D180501.mrk', 'rb') as fh:\n",
    "  reader = MARCReader(fh)\n",
    "  for record in reader:\n",
    "    \n",
    "    #Get title (245 |a and |b)\n",
    "    if record.title() is not None:\n",
    "      title = record.title()  \n",
    "      title = title.rsplit('/', 1)[0]\n",
    "      title = title.rsplit(':', 1)[0]\n",
    "      title = title.strip()\n",
    "      titles.append(title)\n",
    "    else:\n",
    "      title = 'None'"
   ]
  },
  {
   "cell_type": "code",
   "execution_count": 5,
   "metadata": {},
   "outputs": [
    {
     "name": "stdout",
     "output_type": "stream",
     "text": [
      "['El nuevo indio', 'California design', 'Best of college photography annual', 'Contemporary Japanese prints', 'Transmission, speaking & listening', 'Con sabor a España', 'Super quad', 'Fiesta bailable U.S.A', 'Insieme', 'Romance y cuerdas', 'The best of Roll Records', 'Pedagogy of hope', 'Cancer risk assessment', \"Crain's small business\", 'Energy security', 'Time series', 'Africa after gender?', 'Pay', 'Making sense of public opinion', 'Testosterone', 'Structural equation modeling', \"China's search for security\", 'Classical algebraic geometry', 'Electoral systems and political context', 'Occupy money', 'The physics of dilute magnetic alloys', 'Reparations for Nazi victims in postwar Europe', 'Idols and celebrity in Japanese media culture', 'Mapping the Chinese and Islamic worlds', 'Ontology revisited', 'The Politics and Ethics of Identity', 'Aristotle on desire', 'Democracy at large', 'Frege on absolute and relative truth', 'Frege', 'Poverty and sickness in modern Europe', 'Research methods', 'The role of the Arab-Islamic world in the rise of the west', 'Starting with Kant', 'Theology After Deleuze', 'Theory of society.', 'China in the UN Security Council decision-making on Iraq', 'Saints and symposiasts', 'Chinese village, global market', 'Common land in English painting, 1700-1850', 'From crisis to recovery', \"Locke's moral man\", 'Max Weber and contemporary capitalism', 'On the production of subjectivity', 'Organization, society and politics', 'Plagiarism in Latin literature', 'Roman architecture in Provence', \"Walter Ralegh's History of the world and the historical culture of the late Renaissance\", 'Autobiographical comics', 'Making Tea, Making Japan', 'Bernstein functions', 'Children, adults, and shared responsibilities', 'Global turning points', 'Green innovation in China', 'Knowledge, language and mind', 'Capitalizing China', 'Elastizität', 'The video game industry', 'Integrative medicine', 'Iron and steel', 'Quick reference to wound care', 'Colonial virtue', 'Warfare in Eastern Europe, 1500-1800', 'Women and gender in postwar Europe', 'Bacteriophages in health and disease', 'Claims and speculations', 'Exponential random graph models for social networks', 'In the shadow of violence', 'LoveKnowledge', 'The politics of gratitude', \"Veterans' Policies, Veterans' Politics\", 'Current algebras on Riemann surfaces', 'Origin of the moon. New concept', 'Conversational repair and human understanding', 'Neuroergonomics', 'Guide to literary agents', 'Natural disasters in the Ottoman Empire', 'Mindfulness-oriented interventions for trauma', 'Mythologizing the Vietnam War', 'Public housing myths', 'Deng Xiaoping', 'Natural questions', 'Routledge handbook of comparative political institutions', 'Christianity and culture in the Middle Ages', 'Order and compromise', 'The Joker', 'Chaste thinking', 'The mind of James Madison', 'Inequality, power and school success', 'Why did anticorruption policy fail?', 'Food ethics', 'Education at the edge of empire', 'Affect and American literature in the age of neoliberalism', 'Facing racial revolution', 'British Drama of the Industrial Revolution']\n"
     ]
    }
   ],
   "source": [
    "print(titles[0:100])"
   ]
  },
  {
   "cell_type": "markdown",
   "metadata": {},
   "source": [
    "We should now check all the methods we can do in the `Record` class"
   ]
  },
  {
   "cell_type": "code",
   "execution_count": 38,
   "metadata": {},
   "outputs": [
    {
     "name": "stdout",
     "output_type": "stream",
     "text": [
      "Help on class Record in module pymarc.record:\n",
      "\n",
      "class Record(builtins.object)\n",
      " |  A class for representing a MARC record. Each Record object is made up of\n",
      " |  multiple Field objects. You'll probably want to look at the docs for Field\n",
      " |  to see how to fully use a Record object.\n",
      " |  \n",
      " |  Basic usage:\n",
      " |  \n",
      " |      field = Field(\n",
      " |          tag = '245',\n",
      " |          indicators = ['0','1'],\n",
      " |          subfields = [\n",
      " |              'a', 'The pragmatic programmer : ',\n",
      " |              'b', 'from journeyman to master /',\n",
      " |              'c', 'Andrew Hunt, David Thomas.',\n",
      " |          ])\n",
      " |  \n",
      " |      record.add_field(field)\n",
      " |  \n",
      " |  Or creating a record from a chunk of MARC in transmission format:\n",
      " |  \n",
      " |      record = Record(data=chunk)\n",
      " |  \n",
      " |  Or getting a record as serialized MARC21.\n",
      " |  \n",
      " |      raw = record.as_marc()\n",
      " |  \n",
      " |  You'll normally want to use a MARCReader object to iterate through\n",
      " |  MARC records in a file.\n",
      " |  \n",
      " |  Methods defined here:\n",
      " |  \n",
      " |  __contains__(self, tag)\n",
      " |      Allows a shorthand test of tag membership:\n",
      " |      \n",
      " |          '245' in record\n",
      " |  \n",
      " |  __getitem__(self, tag)\n",
      " |      Allows a shorthand lookup by tag:\n",
      " |      \n",
      " |          record['245']\n",
      " |  \n",
      " |  __init__(self, data='', to_unicode=True, force_utf8=False, hide_utf8_warnings=False, utf8_handling='strict', leader='                        ')\n",
      " |      Initialize self.  See help(type(self)) for accurate signature.\n",
      " |  \n",
      " |  __iter__(self)\n",
      " |  \n",
      " |  __next__(self)\n",
      " |  \n",
      " |  __str__(self)\n",
      " |      In a string context a Record object will return a prettified version\n",
      " |      of the record in MARCMaker format. See the docstring for Field.__str__\n",
      " |      for more information.\n",
      " |  \n",
      " |  add_field(self, *fields)\n",
      " |      add_field() will add pymarc.Field objects to a Record object.\n",
      " |      Optionally you can pass in multiple fields.\n",
      " |  \n",
      " |  add_grouped_field(self, *fields)\n",
      " |      add_grouped_field() will add pymarc.Field objects to a Record object,\n",
      " |      attempting to maintain a loose numeric order per the MARC standard for\n",
      " |      \"Organization of the record\" (http://www.loc.gov/marc/96principl.html)\n",
      " |      Optionally you can pass in multiple fields.\n",
      " |  \n",
      " |  add_ordered_field(self, *fields)\n",
      " |      add_ordered_field() will add pymarc.Field objects to a Record object,\n",
      " |      attempting to maintain a strict numeric order.\n",
      " |      Optionally you can pass in multiple fields.\n",
      " |  \n",
      " |  addedentries(self)\n",
      " |      Note: Fields 790-799 are considered \"local\" added entry fields but\n",
      " |      occur with some frequency in OCLC and RLIN records.\n",
      " |  \n",
      " |  as_dict(self)\n",
      " |      Turn a MARC record into a dictionary, which is used for ``as_json``.\n",
      " |  \n",
      " |  as_json(self, **kwargs)\n",
      " |      Serialize a record as JSON according to\n",
      " |      http://dilettantes.code4lib.org/blog/2010/09/a-proposal-to-serialize-marc-in-json/\n",
      " |  \n",
      " |  as_marc(self)\n",
      " |      returns the record serialized as MARC21\n",
      " |  \n",
      " |  as_marc21 = as_marc(self)\n",
      " |  \n",
      " |  author(self)\n",
      " |  \n",
      " |  decode_marc(self, marc, to_unicode=True, force_utf8=False, hide_utf8_warnings=False, utf8_handling='strict')\n",
      " |      decode_marc() accepts a MARC record in transmission format as a\n",
      " |      a string argument, and will populate the object based on the data\n",
      " |      found. The Record constructor actually uses decode_marc() behind\n",
      " |      the scenes when you pass in a chunk of MARC data to it.\n",
      " |  \n",
      " |  get_fields(self, *args)\n",
      " |      When passed a tag ('245'), get_fields() will return a list of all the\n",
      " |      fields in a record with a given tag.\n",
      " |      \n",
      " |          title = record.get_fields('245')\n",
      " |      \n",
      " |      If no fields with the specified\n",
      " |      tag are found then an empty list is returned. If you are interested\n",
      " |      in more than one tag you can pass in a list:\n",
      " |      \n",
      " |          subjects = record.get_fields('600', '610', '650')\n",
      " |      \n",
      " |      If no tag is passed in to get_fields() a list of all the fields will be\n",
      " |      returned.\n",
      " |  \n",
      " |  isbn(self)\n",
      " |      Returns the first ISBN in the record or None if one is not\n",
      " |      present. The returned ISBN will be all numeric, except for an\n",
      " |      x/X which may occur in the checksum position.  Dashes and\n",
      " |      extraneous information will be automatically removed. If you need\n",
      " |      this information you'll want to look directly at the 020 field,\n",
      " |      e.g. record['020']['a']\n",
      " |  \n",
      " |  location(self)\n",
      " |  \n",
      " |  notes(self)\n",
      " |      Return all 5xx fields in an array.\n",
      " |  \n",
      " |  physicaldescription(self)\n",
      " |      Return all 300 fields in an array\n",
      " |  \n",
      " |  publisher(self)\n",
      " |      Note: 264 field with second indicator '1' indicates publisher.\n",
      " |  \n",
      " |  pubyear(self)\n",
      " |  \n",
      " |  remove_field(self, *fields)\n",
      " |      remove_field() will remove one or more pymarc.Field objects from\n",
      " |      a Record object.\n",
      " |  \n",
      " |  remove_fields(self, *tags)\n",
      " |      Remove all the fields with the tags passed to the function:\n",
      " |      \n",
      " |          self.remove_fields('200', '899')\n",
      " |      \n",
      " |      will remove all the fields marked with tags '200' or '899'.\n",
      " |  \n",
      " |  series(self)\n",
      " |      Note: 490 supersedes the 440 series statement which was both\n",
      " |      series statement and added entry. 8XX fields are added entries.\n",
      " |  \n",
      " |  subjects(self)\n",
      " |      Note: Fields 690-699 are considered \"local\" added entry fields but\n",
      " |      occur with some frequency in OCLC and RLIN records.\n",
      " |  \n",
      " |  title(self)\n",
      " |      Returns the title of the record (245 $a an $b).\n",
      " |  \n",
      " |  uniformtitle(self)\n",
      " |  \n",
      " |  ----------------------------------------------------------------------\n",
      " |  Data descriptors defined here:\n",
      " |  \n",
      " |  __dict__\n",
      " |      dictionary for instance variables (if defined)\n",
      " |  \n",
      " |  __weakref__\n",
      " |      list of weak references to the object (if defined)\n",
      "\n"
     ]
    }
   ],
   "source": [
    "import pymarc\n",
    "help(pymarc.Record)"
   ]
  },
  {
   "cell_type": "code",
   "execution_count": 23,
   "metadata": {},
   "outputs": [],
   "source": [
    "subject_list = []\n",
    "with open('data/D180501.mrk', 'rb') as fh:\n",
    "  reader = MARCReader(fh)\n",
    "  for record in reader:\n",
    "    #Get subjects \n",
    "    subjects = record.subjects()\n",
    "    for s in subjects:\n",
    "        subject_list.append((s.format_field()))"
   ]
  },
  {
   "cell_type": "markdown",
   "metadata": {},
   "source": [
    "The `.subjects()` method created `Field` objects, which is why we had to use the `format_field()` method so that they are readable. Now we can read that formatted list of subjects."
   ]
  },
  {
   "cell_type": "code",
   "execution_count": 26,
   "metadata": {},
   "outputs": [
    {
     "name": "stdout",
     "output_type": "stream",
     "text": [
      "['Indians of South America -- Peru', 'Peru -- Civilization', 'Decorative arts -- California -- Exhibitions -- Periodicals', 'Decorative arts -- Exhibitions. fast (OCoLC)fst00889326', 'California. fast (OCoLC)fst01204928', 'Exhibition catalogs. fast (OCoLC)fst01424028', 'Periodicals. fast (OCoLC)fst01411641', 'Exhibition catalogs. lcgft', 'Periodicals. lcgft', 'Photography -- Competitions -- Periodicals', 'Photography -- Competitions. fast (OCoLC)fst01061726', 'Periodicals. fast (OCoLC)fst01411641', '1900-1999 fast', 'Prints, Japanese -- 20th century -- Catalogs', 'Prints, Japanese. fast (OCoLC)fst01076922', 'Catalogs. fast (OCoLC)fst01423692', '2000-2099 fast', 'Artists -- Interviews -- Periodicals', 'Art, Modern -- 21st century -- Periodicals', 'Arts, Modern -- 21st century -- Periodicals', 'Art, Modern. fast (OCoLC)fst00816615', 'Artists. fast (OCoLC)fst00817559', 'Arts, Modern. fast (OCoLC)fst00818137', 'Interviews. fast (OCoLC)fst01423832', 'Periodicals. fast (OCoLC)fst01411641', 'Popular music', 'Popular music. lcgft', 'Rap (Music)', 'Popular music -- 1991-2000', 'Hip-hop (Music) lcgft', 'Cumbia (Music)', 'Popular music -- 1991-2000', 'Cumbia (Music) lcgft', 'Popular music. lcgft', 'Jazz -- 1991-2000', 'Jazz. lcgft', 'Popular instrumental music -- 1991-2000', 'Popular music. lcgft', 'Electronic dance music', 'House music', 'Electronic dance music. lcgft', 'House music. lcgft', 'Freire, Paulo, 1921-1997', 'Freire, Paulo, 1921-1997 fast (OCoLC)fst01439529', 'Education -- Philosophy', 'Popular education -- Philosophy', 'Education -- Social aspects -- Latin America', 'Education -- Social aspects -- Brazil', 'Education -- Philosophy. fast (OCoLC)fst00902721', 'Education -- Social aspects. fast (OCoLC)fst00902773', 'Popular education -- Philosophy. fast (OCoLC)fst01071400', 'Brazil. fast (OCoLC)fst01206830', 'Latin America. fast (OCoLC)fst01245945', 'Carcinogens', 'Health risk assessment', 'Neoplasms -- chemically induced. (DNLM)D009369Q000139', 'Risk Assessment -- methods. (DNLM)D018570Q000379', 'Carcinogens -- toxicity. (DNLM)D002273Q000633', 'Environmental Exposure. (DNLM)D004781', 'Mutagenicity Tests. (DNLM)D009152', 'Carcinogens. fast (OCoLC)fst00846991', 'Health risk assessment. fast (OCoLC)fst00953250', 'Small business -- Periodicals', 'Small business -- Michigan -- Detroit -- Periodicals', 'Energy policy', 'Energy development', 'Power resources', 'Energy development. fast (OCoLC)fst00910034', 'Energy policy. fast (OCoLC)fst00910200', 'Power resources. fast (OCoLC)fst01074275', 'Time-series analysis', 'Econometrics', 'Risk management', 'Econometrics. fast (OCoLC)fst00901574', 'Risk management. fast (OCoLC)fst01098164', 'Time-series analysis. fast (OCoLC)fst01151190', 'Sex role -- Africa', 'Sex role -- Research -- Africa', 'Sex role. fast (OCoLC)fst01114598', 'Sex role -- Research. fast (OCoLC)fst01114632', 'Africa. fast (OCoLC)fst01239509', 'Aufsatzsammlung. swd', 'Wage payment systems', 'Wages', 'Wage payment systems. fast (OCoLC)fst01169465', 'Wages. fast (OCoLC)fst01169492', 'Immigrants -- United States -- Public opinion', 'Public welfare -- United States -- Public opinion', 'Public opinion -- United States', 'Emigration and immigration -- Public opinion. fast (OCoLC)fst00908713', 'Immigrants -- Public opinion. fast (OCoLC)fst00967767', 'Public opinion. fast (OCoLC)fst01082785', 'Public welfare -- Public opinion. fast (OCoLC)fst01083314', 'United States -- Emigration and immigration -- Public opinion', 'United States. fast (OCoLC)fst01204155', 'Testosterone -- Therapeutic use', 'Testosterone -- Physiological effect', 'Androgens', 'Testosterone -- therapeutic use', 'Testosterone -- physiology']\n"
     ]
    }
   ],
   "source": [
    "print(subject_list[0:100])"
   ]
  },
  {
   "cell_type": "code",
   "execution_count": null,
   "metadata": {},
   "outputs": [],
   "source": []
  }
 ],
 "metadata": {
  "kernelspec": {
   "display_name": "Python 3",
   "language": "python",
   "name": "python3"
  },
  "language_info": {
   "codemirror_mode": {
    "name": "ipython",
    "version": 3
   },
   "file_extension": ".py",
   "mimetype": "text/x-python",
   "name": "python",
   "nbconvert_exporter": "python",
   "pygments_lexer": "ipython3",
   "version": "3.7.3"
  }
 },
 "nbformat": 4,
 "nbformat_minor": 2
}
